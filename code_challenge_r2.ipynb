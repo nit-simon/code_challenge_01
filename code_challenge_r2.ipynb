{
 "cells": [
  {
   "cell_type": "code",
   "execution_count": 1,
   "metadata": {},
   "outputs": [],
   "source": [
    "import pandas as pd\n",
    "import requests\n",
    "from bs4 import BeautifulSoup #as soup\n",
    "import time\n",
    "import json\n",
    "\n",
    "from pathlib import Path  \n",
    "import os"
   ]
  },
  {
   "cell_type": "markdown",
   "metadata": {},
   "source": [
    "versions of the core libraries used\n",
    "- pandas version: 1.0.1\n",
    "\n",
    "- BeautifulSoup version: 4.8.2\n",
    "\n",
    "- requests version: 2.22.0\n",
    "\n",
    "- python version: 3.7.3"
   ]
  },
  {
   "cell_type": "code",
   "execution_count": null,
   "metadata": {},
   "outputs": [],
   "source": []
  },
  {
   "cell_type": "code",
   "execution_count": null,
   "metadata": {},
   "outputs": [],
   "source": []
  },
  {
   "cell_type": "code",
   "execution_count": 2,
   "metadata": {},
   "outputs": [],
   "source": [
    "# tested only on windows, fetch the username folder, assist in saving location\n",
    "# first = len(\"c:\\\\users\\\\\")\n",
    "# print(os.path.abspath(os.getcwd()))\n",
    "# pwd = os.path.abspath(os.getcwd())\n",
    "# second = pwd[first:len(pwd)]\n",
    "# third = second.find(\"\\\\\")\n",
    "# pc_username_folder = second[0:third]\n",
    "# print(\"username: \"+ pc_username_folder)\n",
    "\n",
    "# save_loc =fr'C:\\Users\\{pc_username_folder}\\Desktop\\pharma_ida.csv'"
   ]
  },
  {
   "cell_type": "code",
   "execution_count": 3,
   "metadata": {},
   "outputs": [],
   "source": [
    "#manually type save location\n",
    "save_loc =fr'C:\\Users\\rsimon\\Desktop\\pharma_ida.csv'"
   ]
  },
  {
   "cell_type": "code",
   "execution_count": null,
   "metadata": {},
   "outputs": [],
   "source": []
  },
  {
   "cell_type": "code",
   "execution_count": null,
   "metadata": {},
   "outputs": [],
   "source": []
  },
  {
   "cell_type": "code",
   "execution_count": null,
   "metadata": {},
   "outputs": [],
   "source": []
  },
  {
   "cell_type": "code",
   "execution_count": 4,
   "metadata": {},
   "outputs": [],
   "source": [
    "#This URL is the page you actually want to pull down with requests.\n",
    "initial_page = 'https://idbop.mylicense.com/verification/Search.aspx'\n",
    "searchPage = initial_page"
   ]
  },
  {
   "cell_type": "code",
   "execution_count": null,
   "metadata": {},
   "outputs": [],
   "source": []
  },
  {
   "cell_type": "code",
   "execution_count": 5,
   "metadata": {},
   "outputs": [],
   "source": [
    "# format the fetch list into  columns.\n",
    "def list_format(list_name, step):\n",
    "    return [list_name[i::step] for i in range(step)]\n",
    "#print(list_format(data,4))"
   ]
  },
  {
   "cell_type": "code",
   "execution_count": null,
   "metadata": {},
   "outputs": [],
   "source": []
  },
  {
   "cell_type": "code",
   "execution_count": 6,
   "metadata": {},
   "outputs": [],
   "source": [
    "def fetch_next_page(page):\n",
    "    payload_next_page = {\n",
    "    \"CurrentPageIndex\":page,\n",
    "    \"__EVENTTARGET\":\"datagrid_results$_ctl44$_ctl1\",\n",
    "    \"__EVENTARGUMENT\":\"\",\n",
    "    \"__VIEWSTATEGENERATOR\":viewStateGenerator,\n",
    "    \"__VIEWSTATE\":viewState,\n",
    "    \"__EVENTVALIDATION\":eventValidation}\n",
    "    nextpage=\"https://idbop.mylicense.com/verification/SearchResults.aspx\"\n",
    "    result_np=req_sess.post(nextpage,headers=headers1,data=payload_next_page)\n",
    "    soup1=BeautifulSoup(result_np.content, 'html.parser')\n",
    "    td_as_base1 = soup1.find_all('td') \n",
    "    data2 = []\n",
    "    for cell in td_as_base1:\n",
    "            if cell.text==\"\":\n",
    "                #print(\"empty string skipped\")\n",
    "                continue\n",
    "            #if cell.text.startswith('\\n'):\n",
    "            if '\\\\' in  r\"%r\" % cell.text:\n",
    "                #print(\"slash skipped\")\n",
    "                continue\n",
    "            insertdata = cell.text.strip()\n",
    "            data2.append(insertdata)\n",
    "    return data2"
   ]
  },
  {
   "cell_type": "code",
   "execution_count": null,
   "metadata": {},
   "outputs": [],
   "source": []
  },
  {
   "cell_type": "code",
   "execution_count": 7,
   "metadata": {},
   "outputs": [],
   "source": [
    "def count_pages():\n",
    "    pagination=BeautifulSoup(result.content, 'html.parser')\n",
    "    paginationtags = pagination.find_all('a') # all trs\n",
    "    pages = [tag.text.strip() for tag in paginationtags if tag.text.isnumeric()]\n",
    "    return pages"
   ]
  },
  {
   "cell_type": "code",
   "execution_count": null,
   "metadata": {},
   "outputs": [],
   "source": []
  },
  {
   "cell_type": "code",
   "execution_count": 8,
   "metadata": {},
   "outputs": [],
   "source": [
    "def remove_these(thisList):\n",
    "    try:\n",
    "        thisList.remove(\"Search\")\n",
    "        thisList.remove(\"Search Results\")\n",
    "        print(\"Removed exess texts\")\n",
    "    except:\n",
    "        print(\"keywords removed/not present\")"
   ]
  },
  {
   "cell_type": "code",
   "execution_count": null,
   "metadata": {},
   "outputs": [],
   "source": []
  },
  {
   "cell_type": "code",
   "execution_count": null,
   "metadata": {},
   "outputs": [],
   "source": []
  },
  {
   "cell_type": "code",
   "execution_count": 9,
   "metadata": {},
   "outputs": [],
   "source": [
    "############# SEQUENCE 1 - the initial page needs to be loaded first to acquire the viewstate to be used in the search page, then the pagination"
   ]
  },
  {
   "cell_type": "code",
   "execution_count": 10,
   "metadata": {},
   "outputs": [
    {
     "name": "stdout",
     "output_type": "stream",
     "text": [
      "Loading the initial page\n"
     ]
    }
   ],
   "source": [
    "print(\"Loading the initial page\")\n",
    "req_sess=requests.Session()\n",
    "r=req_sess.get(initial_page)\n",
    "time.sleep(5)\n",
    "soup=BeautifulSoup(r.content, 'html.parser')"
   ]
  },
  {
   "cell_type": "code",
   "execution_count": 11,
   "metadata": {},
   "outputs": [],
   "source": [
    "# eventTarget=soup.find(id=\"__EVENTTARGET\")['value']\n",
    "#eventArguement=soup.find(id=\"__EVENTARGUMENT\")['value']\n",
    "viewState=soup.find(id=\"__VIEWSTATE\")['value']\n",
    "viewStateGenerator=soup.find(id=\"__VIEWSTATEGENERATOR\")['value']\n",
    "eventValidation=soup.find(id=\"__EVENTVALIDATION\")['value']"
   ]
  },
  {
   "cell_type": "code",
   "execution_count": null,
   "metadata": {},
   "outputs": [],
   "source": []
  },
  {
   "cell_type": "code",
   "execution_count": null,
   "metadata": {},
   "outputs": [],
   "source": []
  },
  {
   "cell_type": "code",
   "execution_count": 12,
   "metadata": {},
   "outputs": [],
   "source": [
    "# \n",
    "license_type_name = \"Pharmacist\"\n",
    "lastName =\"L*\"\n",
    "\n"
   ]
  },
  {
   "cell_type": "code",
   "execution_count": 13,
   "metadata": {},
   "outputs": [],
   "source": [
    "### search fields , Please uncomment after testing\n",
    "\n",
    "\n",
    "\n",
    "# lastName = input(\"Enter Last Name\")\n",
    "# first_name  = input('Enter First Name')\n",
    "# license_type_name =input(\"Enter License Type\")\n",
    "# license_type_name  = input('Enter License Type')\n",
    "# last_name  = input('Enter Last Name')\n",
    "# addr_city  = input('Enter City')\n",
    "# license_no  = input('Enter license no')\n",
    "# addr_state  = input('Enter State')\n",
    "# license_status_name  = input('Enter license status')\n",
    "# addr_county  = input('Enter Country')\n",
    "# addr_zipcode  = input('Enter Zip')"
   ]
  },
  {
   "cell_type": "code",
   "execution_count": null,
   "metadata": {},
   "outputs": [],
   "source": []
  },
  {
   "cell_type": "code",
   "execution_count": 14,
   "metadata": {},
   "outputs": [],
   "source": [
    "payload = {\n",
    "    \"__EVENTTARGET\":\"\",\n",
    "    \"__EVENTARGUMENT\":\"\",\n",
    "    \"__LASTFOCUS\":\"\",\n",
    "    \"__VIEWSTATEGENERATOR\":viewStateGenerator,\n",
    "    \"__VIEWSTATE\":viewState,\n",
    "    \"__EVENTVALIDATION\":eventValidation,\n",
    "    \"t_web_lookup__first_name\":\"\",\n",
    "    \"t_web_lookup__license_type_name\":license_type_name,\n",
    "    \"t_web_lookup__last_name\":lastName,\n",
    "    \"t_web_lookup__addr_city\":\"\",\n",
    "    \"t_web_lookup__license_no\":\"\",\n",
    "    \"t_web_lookup__addr_state\":\"\",\n",
    "    \"t_web_lookup__license_status_name\":\"\",\n",
    "    \"t_web_lookup__addr_county\":\"\",\n",
    "    \"t_web_lookup__addr_zipcode\":\"\",\n",
    "    \"sch_button\":\"Search\"\n",
    "}"
   ]
  },
  {
   "cell_type": "code",
   "execution_count": null,
   "metadata": {},
   "outputs": [],
   "source": []
  },
  {
   "cell_type": "code",
   "execution_count": 15,
   "metadata": {},
   "outputs": [],
   "source": [
    "headers1 = {\n",
    "    'Accept':'text/html,application/xhtml+xml,application/xml;q=0.9,image/webp,image/apng,*/*;q=0.8,application/signed-exchange;v=b3;q=0.9',\n",
    "    'Accept-Encoding':'gzip, deflate, br',\n",
    "    'Connection':'keep-alive',\n",
    "    'Cache-Control':'max-age=0',\n",
    "    'Content-Length': '2853',\n",
    "    'Content-Type':'application/x-www-form-urlencoded; charset=UTF-8',\n",
    "    'Host':'idbop.mylicense.com',\n",
    "    'Origin':'https://idbop.mylicense.com',\n",
    "    'Referer': 'https://idbop.mylicense.com/verification/Search.aspx',\n",
    "    'user-agent': 'Mozilla/5.0 (Windows NT 10.0; Win64; x64) AppleWebKit/537.36 (KHTML, like Gecko) Chrome/108.0.0.0 Safari/537.36 Edg/108.0.1462.54',\n",
    "    'X-Requested-With':'XMLHttpRequest'\n",
    "}"
   ]
  },
  {
   "cell_type": "code",
   "execution_count": 16,
   "metadata": {},
   "outputs": [
    {
     "name": "stdout",
     "output_type": "stream",
     "text": [
      "submitting inital requet to page\n"
     ]
    }
   ],
   "source": [
    "print(\"submitting inital requet to page\")\n",
    "result=req_sess.post(searchPage,headers=headers1,data=payload)"
   ]
  },
  {
   "cell_type": "code",
   "execution_count": 17,
   "metadata": {},
   "outputs": [],
   "source": [
    "# for fetching the page count\n",
    "soup=BeautifulSoup(result.text, 'html.parser')"
   ]
  },
  {
   "cell_type": "code",
   "execution_count": null,
   "metadata": {},
   "outputs": [],
   "source": []
  },
  {
   "cell_type": "code",
   "execution_count": 18,
   "metadata": {},
   "outputs": [],
   "source": [
    "pageCount =count_pages()"
   ]
  },
  {
   "cell_type": "code",
   "execution_count": 19,
   "metadata": {},
   "outputs": [
    {
     "data": {
      "text/plain": [
       "['2', '3', '4', '5', '6', '7', '8', '9']"
      ]
     },
     "execution_count": 19,
     "metadata": {},
     "output_type": "execute_result"
    }
   ],
   "source": [
    "pageCount"
   ]
  },
  {
   "cell_type": "code",
   "execution_count": null,
   "metadata": {},
   "outputs": [],
   "source": []
  },
  {
   "cell_type": "code",
   "execution_count": null,
   "metadata": {},
   "outputs": [],
   "source": []
  },
  {
   "cell_type": "code",
   "execution_count": 20,
   "metadata": {},
   "outputs": [
    {
     "name": "stdout",
     "output_type": "stream",
     "text": [
      "fetching page 0\n",
      "Removed exess texts\n",
      "page 0 fetch done\n",
      "fetching page 1\n",
      "Removed exess texts\n",
      "page 1 fetch done\n",
      "fetching page 2\n",
      "Removed exess texts\n",
      "page 2 fetch done\n",
      "fetching page 3\n",
      "Removed exess texts\n",
      "page 3 fetch done\n",
      "fetching page 4\n",
      "Removed exess texts\n",
      "page 4 fetch done\n",
      "fetching page 5\n",
      "Removed exess texts\n",
      "page 5 fetch done\n",
      "fetching page 6\n",
      "Removed exess texts\n",
      "page 6 fetch done\n",
      "fetching page 7\n",
      "Removed exess texts\n",
      "page 7 fetch done\n",
      "fetching page 8\n",
      "Removed exess texts\n",
      "page 8 fetch done\n"
     ]
    }
   ],
   "source": [
    "# iterate fetching of all pages\n",
    "all_list =[]\n",
    "for page in range(len(pageCount)+1):\n",
    "    print(\"fetching page \"+str(page))\n",
    "    fetchedData = fetch_next_page(page)\n",
    "    # remove the exces texts constanly found\n",
    "    remove_these(fetchedData)\n",
    "    all_list.append(fetchedData)\n",
    "    print(\"page \"+str(page)+\" fetch done\")\n",
    "    # a bit of a pause before the next query\n",
    "    time.sleep(2)"
   ]
  },
  {
   "cell_type": "code",
   "execution_count": null,
   "metadata": {},
   "outputs": [],
   "source": []
  },
  {
   "cell_type": "code",
   "execution_count": 21,
   "metadata": {},
   "outputs": [],
   "source": [
    "# consolitdate al in one list\n",
    "finalList =[]\n",
    "for item in all_list:\n",
    "    for cells in  item:\n",
    "        finalList.append(cells)"
   ]
  },
  {
   "cell_type": "code",
   "execution_count": 22,
   "metadata": {},
   "outputs": [
    {
     "data": {
      "text/plain": [
       "1360"
      ]
     },
     "execution_count": 22,
     "metadata": {},
     "output_type": "execute_result"
    }
   ],
   "source": [
    "len(finalList)"
   ]
  },
  {
   "cell_type": "code",
   "execution_count": 23,
   "metadata": {},
   "outputs": [
    {
     "name": "stdout",
     "output_type": "stream",
     "text": [
      "formatting fetched list\n"
     ]
    }
   ],
   "source": [
    "print(\"formatting fetched list\")\n",
    "formattedFinalList = list_format(finalList,4)"
   ]
  },
  {
   "cell_type": "code",
   "execution_count": null,
   "metadata": {},
   "outputs": [],
   "source": []
  },
  {
   "cell_type": "code",
   "execution_count": 24,
   "metadata": {},
   "outputs": [
    {
     "name": "stdout",
     "output_type": "stream",
     "text": [
      "constructing table\n"
     ]
    }
   ],
   "source": [
    "# resconstruct the table\n",
    "print(\"constructing table\")\n",
    "Name = formattedFinalList[0]\n",
    "License_NO = formattedFinalList[1]\n",
    "Licence_type =   formattedFinalList[2]\n",
    "Status =  formattedFinalList[3]\n",
    "phamacist_list_dict = {'Name': Name, 'License_NO': License_NO, 'Licence_type': Licence_type,\"Status\":Status}\n",
    "final_list =  pd.DataFrame(phamacist_list_dict)\n",
    "#len(final_list)"
   ]
  },
  {
   "cell_type": "code",
   "execution_count": 25,
   "metadata": {},
   "outputs": [
    {
     "data": {
      "text/html": [
       "<div>\n",
       "<style scoped>\n",
       "    .dataframe tbody tr th:only-of-type {\n",
       "        vertical-align: middle;\n",
       "    }\n",
       "\n",
       "    .dataframe tbody tr th {\n",
       "        vertical-align: top;\n",
       "    }\n",
       "\n",
       "    .dataframe thead th {\n",
       "        text-align: right;\n",
       "    }\n",
       "</style>\n",
       "<table border=\"1\" class=\"dataframe\">\n",
       "  <thead>\n",
       "    <tr style=\"text-align: right;\">\n",
       "      <th></th>\n",
       "      <th>Name</th>\n",
       "      <th>License_NO</th>\n",
       "      <th>Licence_type</th>\n",
       "      <th>Status</th>\n",
       "    </tr>\n",
       "  </thead>\n",
       "  <tbody>\n",
       "    <tr>\n",
       "      <th>0</th>\n",
       "      <td>La, Abbie Anh-Buu</td>\n",
       "      <td>P8571</td>\n",
       "      <td>Pharmacist</td>\n",
       "      <td>Expired</td>\n",
       "    </tr>\n",
       "    <tr>\n",
       "      <th>1</th>\n",
       "      <td>LABELLA, JAMES PAUL</td>\n",
       "      <td>P7148</td>\n",
       "      <td>Pharmacist</td>\n",
       "      <td>Active</td>\n",
       "    </tr>\n",
       "    <tr>\n",
       "      <th>2</th>\n",
       "      <td>LABREL, KEATEN PATRICK</td>\n",
       "      <td>P7351</td>\n",
       "      <td>Pharmacist</td>\n",
       "      <td>Expired</td>\n",
       "    </tr>\n",
       "    <tr>\n",
       "      <th>3</th>\n",
       "      <td>LACEY, ROY ARTHUR</td>\n",
       "      <td>P7222</td>\n",
       "      <td>Pharmacist</td>\n",
       "      <td>Expired</td>\n",
       "    </tr>\n",
       "    <tr>\n",
       "      <th>4</th>\n",
       "      <td>LACHELT, JEFF A</td>\n",
       "      <td>P5376</td>\n",
       "      <td>Pharmacist</td>\n",
       "      <td>Active</td>\n",
       "    </tr>\n",
       "    <tr>\n",
       "      <th>...</th>\n",
       "      <td>...</td>\n",
       "      <td>...</td>\n",
       "      <td>...</td>\n",
       "      <td>...</td>\n",
       "    </tr>\n",
       "    <tr>\n",
       "      <th>335</th>\n",
       "      <td>LYONS, MARY J</td>\n",
       "      <td>P5213</td>\n",
       "      <td>Pharmacist</td>\n",
       "      <td>Active</td>\n",
       "    </tr>\n",
       "    <tr>\n",
       "      <th>336</th>\n",
       "      <td>LYONS, TOM</td>\n",
       "      <td>P3049</td>\n",
       "      <td>Pharmacist</td>\n",
       "      <td>Expired</td>\n",
       "    </tr>\n",
       "    <tr>\n",
       "      <th>337</th>\n",
       "      <td>LYSTRUP, ALEX JAMES, PHARMD</td>\n",
       "      <td>P8065</td>\n",
       "      <td>Pharmacist</td>\n",
       "      <td>Active</td>\n",
       "    </tr>\n",
       "    <tr>\n",
       "      <th>338</th>\n",
       "      <td>LYTLE, RYAN F</td>\n",
       "      <td>P6435</td>\n",
       "      <td>Pharmacist</td>\n",
       "      <td>Active</td>\n",
       "    </tr>\n",
       "    <tr>\n",
       "      <th>339</th>\n",
       "      <td>Lyu, Sora</td>\n",
       "      <td>P8855</td>\n",
       "      <td>Pharmacist</td>\n",
       "      <td>Active</td>\n",
       "    </tr>\n",
       "  </tbody>\n",
       "</table>\n",
       "<p>340 rows × 4 columns</p>\n",
       "</div>"
      ],
      "text/plain": [
       "                            Name License_NO Licence_type   Status\n",
       "0              La, Abbie Anh-Buu      P8571   Pharmacist  Expired\n",
       "1            LABELLA, JAMES PAUL      P7148   Pharmacist   Active\n",
       "2         LABREL, KEATEN PATRICK      P7351   Pharmacist  Expired\n",
       "3              LACEY, ROY ARTHUR      P7222   Pharmacist  Expired\n",
       "4                LACHELT, JEFF A      P5376   Pharmacist   Active\n",
       "..                           ...        ...          ...      ...\n",
       "335                LYONS, MARY J      P5213   Pharmacist   Active\n",
       "336                   LYONS, TOM      P3049   Pharmacist  Expired\n",
       "337  LYSTRUP, ALEX JAMES, PHARMD      P8065   Pharmacist   Active\n",
       "338                LYTLE, RYAN F      P6435   Pharmacist   Active\n",
       "339                    Lyu, Sora      P8855   Pharmacist   Active\n",
       "\n",
       "[340 rows x 4 columns]"
      ]
     },
     "execution_count": 25,
     "metadata": {},
     "output_type": "execute_result"
    }
   ],
   "source": [
    "final_list"
   ]
  },
  {
   "cell_type": "code",
   "execution_count": 27,
   "metadata": {},
   "outputs": [
    {
     "name": "stdout",
     "output_type": "stream",
     "text": [
      "saving file\n"
     ]
    },
    {
     "ename": "PermissionError",
     "evalue": "[WinError 5] Access is denied: 'C:\\\\Users\\\\rsimon'",
     "output_type": "error",
     "traceback": [
      "\u001b[1;31m---------------------------------------------------------------------------\u001b[0m",
      "\u001b[1;31mFileNotFoundError\u001b[0m                         Traceback (most recent call last)",
      "\u001b[1;32mC:\\Users\\Triple_One\\Anaconda3\\lib\\pathlib.py\u001b[0m in \u001b[0;36mmkdir\u001b[1;34m(self, mode, parents, exist_ok)\u001b[0m\n\u001b[0;32m   1250\u001b[0m         \u001b[1;32mtry\u001b[0m\u001b[1;33m:\u001b[0m\u001b[1;33m\u001b[0m\u001b[1;33m\u001b[0m\u001b[0m\n\u001b[1;32m-> 1251\u001b[1;33m             \u001b[0mself\u001b[0m\u001b[1;33m.\u001b[0m\u001b[0m_accessor\u001b[0m\u001b[1;33m.\u001b[0m\u001b[0mmkdir\u001b[0m\u001b[1;33m(\u001b[0m\u001b[0mself\u001b[0m\u001b[1;33m,\u001b[0m \u001b[0mmode\u001b[0m\u001b[1;33m)\u001b[0m\u001b[1;33m\u001b[0m\u001b[1;33m\u001b[0m\u001b[0m\n\u001b[0m\u001b[0;32m   1252\u001b[0m         \u001b[1;32mexcept\u001b[0m \u001b[0mFileNotFoundError\u001b[0m\u001b[1;33m:\u001b[0m\u001b[1;33m\u001b[0m\u001b[1;33m\u001b[0m\u001b[0m\n",
      "\u001b[1;31mFileNotFoundError\u001b[0m: [WinError 3] The system cannot find the path specified: 'C:\\\\Users\\\\rsimon\\\\Desktop'",
      "\nDuring handling of the above exception, another exception occurred:\n",
      "\u001b[1;31mPermissionError\u001b[0m                           Traceback (most recent call last)",
      "\u001b[1;32m<ipython-input-27-711806da67eb>\u001b[0m in \u001b[0;36m<module>\u001b[1;34m\u001b[0m\n\u001b[0;32m      1\u001b[0m \u001b[0mprint\u001b[0m\u001b[1;33m(\u001b[0m\u001b[1;34m\"saving file\"\u001b[0m\u001b[1;33m)\u001b[0m\u001b[1;33m\u001b[0m\u001b[1;33m\u001b[0m\u001b[0m\n\u001b[0;32m      2\u001b[0m \u001b[0mfilepath\u001b[0m \u001b[1;33m=\u001b[0m \u001b[0mPath\u001b[0m\u001b[1;33m(\u001b[0m\u001b[0msave_loc\u001b[0m\u001b[1;33m)\u001b[0m\u001b[1;33m\u001b[0m\u001b[1;33m\u001b[0m\u001b[0m\n\u001b[1;32m----> 3\u001b[1;33m \u001b[0mfilepath\u001b[0m\u001b[1;33m.\u001b[0m\u001b[0mparent\u001b[0m\u001b[1;33m.\u001b[0m\u001b[0mmkdir\u001b[0m\u001b[1;33m(\u001b[0m\u001b[0mparents\u001b[0m\u001b[1;33m=\u001b[0m\u001b[1;32mTrue\u001b[0m\u001b[1;33m,\u001b[0m \u001b[0mexist_ok\u001b[0m\u001b[1;33m=\u001b[0m\u001b[1;32mTrue\u001b[0m\u001b[1;33m)\u001b[0m\u001b[1;33m\u001b[0m\u001b[1;33m\u001b[0m\u001b[0m\n\u001b[0m\u001b[0;32m      4\u001b[0m \u001b[0mfinal_list\u001b[0m\u001b[1;33m.\u001b[0m\u001b[0mto_csv\u001b[0m\u001b[1;33m(\u001b[0m\u001b[0mfilepath\u001b[0m\u001b[1;33m)\u001b[0m\u001b[1;33m\u001b[0m\u001b[1;33m\u001b[0m\u001b[0m\n",
      "\u001b[1;32mC:\\Users\\Triple_One\\Anaconda3\\lib\\pathlib.py\u001b[0m in \u001b[0;36mmkdir\u001b[1;34m(self, mode, parents, exist_ok)\u001b[0m\n\u001b[0;32m   1253\u001b[0m             \u001b[1;32mif\u001b[0m \u001b[1;32mnot\u001b[0m \u001b[0mparents\u001b[0m \u001b[1;32mor\u001b[0m \u001b[0mself\u001b[0m\u001b[1;33m.\u001b[0m\u001b[0mparent\u001b[0m \u001b[1;33m==\u001b[0m \u001b[0mself\u001b[0m\u001b[1;33m:\u001b[0m\u001b[1;33m\u001b[0m\u001b[1;33m\u001b[0m\u001b[0m\n\u001b[0;32m   1254\u001b[0m                 \u001b[1;32mraise\u001b[0m\u001b[1;33m\u001b[0m\u001b[1;33m\u001b[0m\u001b[0m\n\u001b[1;32m-> 1255\u001b[1;33m             \u001b[0mself\u001b[0m\u001b[1;33m.\u001b[0m\u001b[0mparent\u001b[0m\u001b[1;33m.\u001b[0m\u001b[0mmkdir\u001b[0m\u001b[1;33m(\u001b[0m\u001b[0mparents\u001b[0m\u001b[1;33m=\u001b[0m\u001b[1;32mTrue\u001b[0m\u001b[1;33m,\u001b[0m \u001b[0mexist_ok\u001b[0m\u001b[1;33m=\u001b[0m\u001b[1;32mTrue\u001b[0m\u001b[1;33m)\u001b[0m\u001b[1;33m\u001b[0m\u001b[1;33m\u001b[0m\u001b[0m\n\u001b[0m\u001b[0;32m   1256\u001b[0m             \u001b[0mself\u001b[0m\u001b[1;33m.\u001b[0m\u001b[0mmkdir\u001b[0m\u001b[1;33m(\u001b[0m\u001b[0mmode\u001b[0m\u001b[1;33m,\u001b[0m \u001b[0mparents\u001b[0m\u001b[1;33m=\u001b[0m\u001b[1;32mFalse\u001b[0m\u001b[1;33m,\u001b[0m \u001b[0mexist_ok\u001b[0m\u001b[1;33m=\u001b[0m\u001b[0mexist_ok\u001b[0m\u001b[1;33m)\u001b[0m\u001b[1;33m\u001b[0m\u001b[1;33m\u001b[0m\u001b[0m\n\u001b[0;32m   1257\u001b[0m         \u001b[1;32mexcept\u001b[0m \u001b[0mOSError\u001b[0m\u001b[1;33m:\u001b[0m\u001b[1;33m\u001b[0m\u001b[1;33m\u001b[0m\u001b[0m\n",
      "\u001b[1;32mC:\\Users\\Triple_One\\Anaconda3\\lib\\pathlib.py\u001b[0m in \u001b[0;36mmkdir\u001b[1;34m(self, mode, parents, exist_ok)\u001b[0m\n\u001b[0;32m   1249\u001b[0m             \u001b[0mself\u001b[0m\u001b[1;33m.\u001b[0m\u001b[0m_raise_closed\u001b[0m\u001b[1;33m(\u001b[0m\u001b[1;33m)\u001b[0m\u001b[1;33m\u001b[0m\u001b[1;33m\u001b[0m\u001b[0m\n\u001b[0;32m   1250\u001b[0m         \u001b[1;32mtry\u001b[0m\u001b[1;33m:\u001b[0m\u001b[1;33m\u001b[0m\u001b[1;33m\u001b[0m\u001b[0m\n\u001b[1;32m-> 1251\u001b[1;33m             \u001b[0mself\u001b[0m\u001b[1;33m.\u001b[0m\u001b[0m_accessor\u001b[0m\u001b[1;33m.\u001b[0m\u001b[0mmkdir\u001b[0m\u001b[1;33m(\u001b[0m\u001b[0mself\u001b[0m\u001b[1;33m,\u001b[0m \u001b[0mmode\u001b[0m\u001b[1;33m)\u001b[0m\u001b[1;33m\u001b[0m\u001b[1;33m\u001b[0m\u001b[0m\n\u001b[0m\u001b[0;32m   1252\u001b[0m         \u001b[1;32mexcept\u001b[0m \u001b[0mFileNotFoundError\u001b[0m\u001b[1;33m:\u001b[0m\u001b[1;33m\u001b[0m\u001b[1;33m\u001b[0m\u001b[0m\n\u001b[0;32m   1253\u001b[0m             \u001b[1;32mif\u001b[0m \u001b[1;32mnot\u001b[0m \u001b[0mparents\u001b[0m \u001b[1;32mor\u001b[0m \u001b[0mself\u001b[0m\u001b[1;33m.\u001b[0m\u001b[0mparent\u001b[0m \u001b[1;33m==\u001b[0m \u001b[0mself\u001b[0m\u001b[1;33m:\u001b[0m\u001b[1;33m\u001b[0m\u001b[1;33m\u001b[0m\u001b[0m\n",
      "\u001b[1;31mPermissionError\u001b[0m: [WinError 5] Access is denied: 'C:\\\\Users\\\\rsimon'"
     ]
    }
   ],
   "source": [
    "print(\"saving file\")\n",
    "filepath = Path(save_loc)  \n",
    "filepath.parent.mkdir(parents=True, exist_ok=True)  \n",
    "final_list.to_csv(filepath)"
   ]
  },
  {
   "cell_type": "code",
   "execution_count": null,
   "metadata": {},
   "outputs": [],
   "source": [
    "print(\"scrape completed\")"
   ]
  }
 ],
 "metadata": {
  "kernelspec": {
   "display_name": "Python 3",
   "language": "python",
   "name": "python3"
  },
  "language_info": {
   "codemirror_mode": {
    "name": "ipython",
    "version": 3
   },
   "file_extension": ".py",
   "mimetype": "text/x-python",
   "name": "python",
   "nbconvert_exporter": "python",
   "pygments_lexer": "ipython3",
   "version": "3.7.3"
  }
 },
 "nbformat": 4,
 "nbformat_minor": 4
}
