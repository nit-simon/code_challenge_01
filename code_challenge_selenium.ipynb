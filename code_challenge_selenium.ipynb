{
 "cells": [
  {
   "cell_type": "code",
   "execution_count": null,
   "metadata": {},
   "outputs": [],
   "source": []
  },
  {
   "cell_type": "code",
   "execution_count": null,
   "metadata": {},
   "outputs": [],
   "source": []
  },
  {
   "cell_type": "code",
   "execution_count": 1,
   "metadata": {},
   "outputs": [],
   "source": [
    "# # fetch username foler directory\n",
    "# import os\n",
    "\n",
    "# first = len(\"c:\\\\users\\\\\")\n",
    "# print(os.path.abspath(os.getcwd()))\n",
    "# pwd = os.path.abspath(os.getcwd())\n",
    "# second = pwd[first:len(pwd)]\n",
    "# third = second.find(\"\\\\\")\n",
    "# pc_username_folder = second[0:third]\n",
    "# print(\"username: \"+ pc_username_folder)"
   ]
  },
  {
   "cell_type": "code",
   "execution_count": 2,
   "metadata": {},
   "outputs": [],
   "source": [
    "save_loc =fr'C:\\Users\\rsimon\\Desktop\\pharmacist_list_selenium.csv'"
   ]
  },
  {
   "cell_type": "markdown",
   "metadata": {},
   "source": [
    "***\n",
    "# 🐍"
   ]
  },
  {
   "cell_type": "code",
   "execution_count": 3,
   "metadata": {},
   "outputs": [],
   "source": [
    "#importing all libraries\n",
    "from selenium import webdriver\n",
    "from selenium.webdriver.common.by import By\n",
    "from selenium.webdriver.support.ui import WebDriverWait,Select\n",
    "#from selenium.webdriver.support import expected_conditions as EC\n",
    "import pandas as pd\n",
    "from bs4 import BeautifulSoup as soup\n",
    "from selenium.webdriver.chrome.options import Options # background run option\n",
    "import time\n",
    "from datetime import datetime\n",
    "from IPython.display import Markdown, display # for printmd\n",
    "# pip install selenium # for first time run, \n",
    "from selenium.webdriver.common.action_chains import ActionChains\n",
    "\n",
    "from selenium.webdriver.support.ui import WebDriverWait\n",
    "from selenium.webdriver.support import expected_conditions as EC\n",
    "\n",
    "import os\n",
    "\n",
    "from pathlib import Path\n",
    "\n",
    "from openpyxl import Workbook\n",
    "from openpyxl import Workbook,load_workbook"
   ]
  },
  {
   "cell_type": "markdown",
   "metadata": {},
   "source": [
    "versions of the core libraries used\n",
    "- selenium version: 3.141.0\n",
    "-pandas version: 1.0.1\n",
    "-BeautifulSoup version: 4.8.2\n",
    "-requests version: 2.22.0\n",
    "-python version: 3.7.3"
   ]
  },
  {
   "cell_type": "code",
   "execution_count": null,
   "metadata": {},
   "outputs": [],
   "source": []
  },
  {
   "cell_type": "code",
   "execution_count": null,
   "metadata": {},
   "outputs": [],
   "source": []
  },
  {
   "cell_type": "code",
   "execution_count": null,
   "metadata": {},
   "outputs": [],
   "source": []
  },
  {
   "cell_type": "code",
   "execution_count": 4,
   "metadata": {},
   "outputs": [],
   "source": [
    "# CHROME Driver Setttings\n",
    "WINDOW_SIZE = \"1920,1080\"\n",
    "chromeOptions = webdriver.ChromeOptions()\n",
    "prefs = {'profile.managed_default_content_settings.images':2}# no image loading settting, for reduced bandwith\n",
    "chromeOptions.add_experimental_option(\"prefs\", prefs)\n",
    "#chromeOptions.add_argument(\"--headless\") # invisible browser\n",
    "chromeOptions.add_argument(\"--window-size=%s\" % WINDOW_SIZE)\n",
    "# Pass the argument 1 to allow and 2 to block (Pop Up Notifications)\n",
    "chromeOptions.add_experimental_option(\"prefs\", { \"profile.default_content_setting_values.notifications\": 2 })\n",
    "#chromeOptions.add_argument(\"--proxy-server=socks5://127.0.0.1:1080\" )  # Apply proxy settings (if getting error \"Your IP cannot Login\")\n",
    "d = webdriver.Chrome(options=chromeOptions)\n",
    "\n",
    "wait = WebDriverWait(d, 60)"
   ]
  },
  {
   "cell_type": "code",
   "execution_count": null,
   "metadata": {},
   "outputs": [],
   "source": []
  },
  {
   "cell_type": "code",
   "execution_count": 5,
   "metadata": {},
   "outputs": [],
   "source": [
    "Link = 'https://idbop.mylicense.com/verification/Search.aspx'"
   ]
  },
  {
   "cell_type": "code",
   "execution_count": 6,
   "metadata": {},
   "outputs": [],
   "source": [
    "# load the page\n",
    "try:\n",
    "    d.get(Link)\n",
    "except:\n",
    "    pass"
   ]
  },
  {
   "cell_type": "code",
   "execution_count": null,
   "metadata": {},
   "outputs": [],
   "source": []
  },
  {
   "cell_type": "raw",
   "metadata": {},
   "source": [
    "list of License type searchable options \n",
    "\n",
    "All\n",
    "Certified Pharmacy Technician\n",
    "Intern - Graduate\n",
    "Intern - Student\n",
    "Non-Resident Pharmacist\n",
    "Non-Resident PIC\n",
    "Pharmacist\n",
    "Pharmacy Technician\n",
    "Pharmacy Technician in Training\n",
    "Practitioner Controlled Substance \n",
    "Researcher Controlled Substance\n",
    "Student Pharmacy Technician"
   ]
  },
  {
   "cell_type": "raw",
   "metadata": {},
   "source": [
    "list of License status searchable options \n",
    "\n",
    "All\n",
    "Active\n",
    "Active - Fee Exempt\n",
    "Cancelled\n",
    "Cancelled by Entity\n",
    "Deceased\n",
    "Expired\n",
    "Expired - Fee Exempt\n",
    "Inactive\n",
    "Retired\n",
    "Revoked\n",
    "Superceded\n",
    "Surrendered\n",
    "Suspended"
   ]
  },
  {
   "cell_type": "code",
   "execution_count": 7,
   "metadata": {},
   "outputs": [],
   "source": [
    "first_mid_name=''\n",
    "last_name='L*'\n",
    "city=''\n",
    "state =''\n",
    "country=''\n",
    "zip_code=''\n",
    "\n",
    "license_type = 'Pharmacist'\n",
    "License_Number=''\n",
    "License_status=''"
   ]
  },
  {
   "cell_type": "code",
   "execution_count": 8,
   "metadata": {},
   "outputs": [],
   "source": [
    "def click_searchButton():\n",
    "    searchButton = d.find_element_by_xpath('//input[@id=\"sch_button\"]')\n",
    "    searchButton.click()"
   ]
  },
  {
   "cell_type": "code",
   "execution_count": 9,
   "metadata": {},
   "outputs": [],
   "source": [
    "def lic_type(Ltype):\n",
    "    selm = d.find_element_by_id('t_web_lookup__license_type_name')\n",
    "    sel_lc = Select(selm)\n",
    "    sel_lc.select_by_visible_text(f'{Ltype}')"
   ]
  },
  {
   "cell_type": "code",
   "execution_count": 10,
   "metadata": {},
   "outputs": [],
   "source": [
    "def lic_status(lstat):\n",
    "    selm = d.find_element_by_id('t_web_lookup__license_status_name')\n",
    "    sel_lc = Select(selm)\n",
    "    sel_lc.select_by_visible_text(f'{lstat}')"
   ]
  },
  {
   "cell_type": "code",
   "execution_count": 11,
   "metadata": {},
   "outputs": [],
   "source": [
    "def state_address(state):\n",
    "    selm = d.find_element_by_id('t_web_lookup__addr_state')\n",
    "    sel_lc = Select(selm)\n",
    "    sel_lc.select_by_visible_text(f'{state}')"
   ]
  },
  {
   "cell_type": "code",
   "execution_count": 12,
   "metadata": {},
   "outputs": [
    {
     "name": "stdout",
     "output_type": "stream",
     "text": [
      "encoding license Type\n"
     ]
    }
   ],
   "source": [
    "if license_type  !='':\n",
    "    print(\"encoding license Type\")\n",
    "    lic_type(license_type)"
   ]
  },
  {
   "cell_type": "code",
   "execution_count": 13,
   "metadata": {},
   "outputs": [],
   "source": [
    "if first_mid_name  !='':\n",
    "    print(\"encoding first/mid name\")\n",
    "    fm_name = d.find_element_by_id(\"t_web_lookup__first_name\")\n",
    "    fm_name.clear()\n",
    "    time.sleep(1)\n",
    "    fm_name.send_keys(firs_mid_name)   "
   ]
  },
  {
   "cell_type": "code",
   "execution_count": 14,
   "metadata": {},
   "outputs": [
    {
     "name": "stdout",
     "output_type": "stream",
     "text": [
      "encoding Last name\n"
     ]
    }
   ],
   "source": [
    "if last_name  !='':\n",
    "    print(\"encoding Last name\")\n",
    "    fm_name = d.find_element_by_id(\"t_web_lookup__last_name\")\n",
    "    fm_name.clear()\n",
    "    time.sleep(1)\n",
    "    fm_name.send_keys(last_name)  "
   ]
  },
  {
   "cell_type": "code",
   "execution_count": 15,
   "metadata": {},
   "outputs": [],
   "source": [
    "if city  !='':\n",
    "    print(\"encoding city\")\n",
    "    fm_name = d.find_element_by_id(\"t_web_lookup__addr_city\")\n",
    "    fm_name.clear()\n",
    "    time.sleep(1)\n",
    "    fm_name.send_keys(city)  "
   ]
  },
  {
   "cell_type": "code",
   "execution_count": 16,
   "metadata": {},
   "outputs": [],
   "source": [
    "if zip_code  !='':\n",
    "    print(\"encoding city\")\n",
    "    fm_name = d.find_element_by_id(\"t_web_lookup__addr_city\")\n",
    "    fm_name.clear()\n",
    "    time.sleep(1)\n",
    "    fm_name.send_keys(zip_code)  "
   ]
  },
  {
   "cell_type": "code",
   "execution_count": 17,
   "metadata": {},
   "outputs": [],
   "source": [
    "if country  !='':\n",
    "    print(\"encoding city\")\n",
    "    fm_name = d.find_element_by_id(\"t_web_lookup__addr_zipcode\")\n",
    "    fm_name.clear()\n",
    "    time.sleep(1)\n",
    "    fm_name.send_keys(city)"
   ]
  },
  {
   "cell_type": "code",
   "execution_count": 18,
   "metadata": {},
   "outputs": [],
   "source": [
    "click_searchButton()"
   ]
  },
  {
   "cell_type": "code",
   "execution_count": null,
   "metadata": {},
   "outputs": [],
   "source": []
  },
  {
   "cell_type": "code",
   "execution_count": null,
   "metadata": {},
   "outputs": [],
   "source": []
  },
  {
   "cell_type": "code",
   "execution_count": null,
   "metadata": {},
   "outputs": [],
   "source": []
  },
  {
   "cell_type": "code",
   "execution_count": null,
   "metadata": {},
   "outputs": [],
   "source": []
  },
  {
   "cell_type": "code",
   "execution_count": null,
   "metadata": {},
   "outputs": [],
   "source": []
  },
  {
   "cell_type": "code",
   "execution_count": null,
   "metadata": {},
   "outputs": [],
   "source": []
  },
  {
   "cell_type": "code",
   "execution_count": 19,
   "metadata": {},
   "outputs": [],
   "source": [
    "# format the fetch list into  columns.\n",
    "def list_format(list_name, step):\n",
    "    return [list_name[i::step] for i in range(step)]\n",
    "#print(list_format(data,4))"
   ]
  },
  {
   "cell_type": "code",
   "execution_count": 20,
   "metadata": {},
   "outputs": [],
   "source": [
    "def extract_table():\n",
    "    soup1 = soup(d.page_source, 'html.parser') # transfer to beautifull soup\n",
    "    table = soup1.find('table', attrs={'id':'datagrid_results'})\n",
    "    tbody=table.find('tbody')\n",
    "    td_as_base1 = tbody.find_all('td') \n",
    "    data2 = []\n",
    "    for cell in td_as_base1:\n",
    "            if cell.text==\"\":\n",
    "                #print(\"empty string skipped\")\n",
    "                continue\n",
    "            #if cell.text.startswith('\\n'):\n",
    "            if '\\\\' in  r\"%r\" % cell.text:\n",
    "                #print(\"slash skipped\")\n",
    "                continue\n",
    "            insertdata = cell.text.strip()\n",
    "            data2.append(insertdata)\n",
    "    return data2"
   ]
  },
  {
   "cell_type": "code",
   "execution_count": 21,
   "metadata": {},
   "outputs": [],
   "source": [
    "def count_pages():\n",
    "    soup1 = soup(d.page_source, 'html.parser')\n",
    "    paginationtags = soup1.find_all('a') # all trs\n",
    "    pages = [tag.text.strip() for tag in paginationtags if tag.text.isnumeric()]\n",
    "    return pages"
   ]
  },
  {
   "cell_type": "code",
   "execution_count": 22,
   "metadata": {},
   "outputs": [],
   "source": [
    "pages = count_pages()"
   ]
  },
  {
   "cell_type": "code",
   "execution_count": 23,
   "metadata": {},
   "outputs": [],
   "source": [
    "# extract what is on the first page\n",
    "pages_list =[] # raw containter for all the pages \n",
    "first_page =extract_table()\n",
    "pages_list.append(first_page)"
   ]
  },
  {
   "cell_type": "code",
   "execution_count": 24,
   "metadata": {},
   "outputs": [
    {
     "name": "stdout",
     "output_type": "stream",
     "text": [
      "extracting page 2\n",
      "extracting page 3\n",
      "extracting page 4\n",
      "extracting page 5\n",
      "extracting page 6\n",
      "extracting page 7\n",
      "extracting page 8\n",
      "extracting page 9\n"
     ]
    }
   ],
   "source": [
    "# loop around the other pages\n",
    "for page_no in pages:\n",
    "    print(\"extracting page \"+str(page_no))\n",
    "    pagination_xpath = fr'//a[text()=\"{page_no}\"]'\n",
    "    pagination = wait.until(EC.element_to_be_clickable((By.XPATH, pagination_xpath)))\n",
    "    pagination.click()\n",
    "    time.sleep(1)\n",
    "    curr_table = extract_table()\n",
    "    pages_list.append(curr_table)\n",
    "    time.sleep(1)"
   ]
  },
  {
   "cell_type": "code",
   "execution_count": 25,
   "metadata": {},
   "outputs": [],
   "source": [
    "# consolitdate al in one list\n",
    "finalList =[]\n",
    "for item in pages_list:\n",
    "    for cells in  item:\n",
    "        finalList.append(cells)"
   ]
  },
  {
   "cell_type": "code",
   "execution_count": 26,
   "metadata": {},
   "outputs": [],
   "source": [
    "formattedFinalList = list_format(finalList,4)"
   ]
  },
  {
   "cell_type": "code",
   "execution_count": 27,
   "metadata": {},
   "outputs": [
    {
     "name": "stdout",
     "output_type": "stream",
     "text": [
      "constructing table\n"
     ]
    }
   ],
   "source": [
    "# resconstruct the table\n",
    "print(\"constructing table\")\n",
    "Name = formattedFinalList[0]\n",
    "License_NO = formattedFinalList[1]\n",
    "Licence_type =   formattedFinalList[2]\n",
    "Status =  formattedFinalList[3]\n",
    "phamacist_list_dict = {'Name': Name, 'License_NO': License_NO, 'Licence_type': Licence_type,\"Status\":Status}\n",
    "final_list =  pd.DataFrame(phamacist_list_dict)\n",
    "#len(final_list)"
   ]
  },
  {
   "cell_type": "code",
   "execution_count": 28,
   "metadata": {},
   "outputs": [
    {
     "name": "stdout",
     "output_type": "stream",
     "text": [
      "saving file\n"
     ]
    },
    {
     "ename": "PermissionError",
     "evalue": "[WinError 5] Access is denied: 'C:\\\\Users\\\\rsimon'",
     "output_type": "error",
     "traceback": [
      "\u001b[1;31m---------------------------------------------------------------------------\u001b[0m",
      "\u001b[1;31mFileNotFoundError\u001b[0m                         Traceback (most recent call last)",
      "\u001b[1;32mC:\\Users\\Triple_One\\Anaconda3\\lib\\pathlib.py\u001b[0m in \u001b[0;36mmkdir\u001b[1;34m(self, mode, parents, exist_ok)\u001b[0m\n\u001b[0;32m   1250\u001b[0m         \u001b[1;32mtry\u001b[0m\u001b[1;33m:\u001b[0m\u001b[1;33m\u001b[0m\u001b[1;33m\u001b[0m\u001b[0m\n\u001b[1;32m-> 1251\u001b[1;33m             \u001b[0mself\u001b[0m\u001b[1;33m.\u001b[0m\u001b[0m_accessor\u001b[0m\u001b[1;33m.\u001b[0m\u001b[0mmkdir\u001b[0m\u001b[1;33m(\u001b[0m\u001b[0mself\u001b[0m\u001b[1;33m,\u001b[0m \u001b[0mmode\u001b[0m\u001b[1;33m)\u001b[0m\u001b[1;33m\u001b[0m\u001b[1;33m\u001b[0m\u001b[0m\n\u001b[0m\u001b[0;32m   1252\u001b[0m         \u001b[1;32mexcept\u001b[0m \u001b[0mFileNotFoundError\u001b[0m\u001b[1;33m:\u001b[0m\u001b[1;33m\u001b[0m\u001b[1;33m\u001b[0m\u001b[0m\n",
      "\u001b[1;31mFileNotFoundError\u001b[0m: [WinError 3] The system cannot find the path specified: 'C:\\\\Users\\\\rsimon\\\\Desktop'",
      "\nDuring handling of the above exception, another exception occurred:\n",
      "\u001b[1;31mPermissionError\u001b[0m                           Traceback (most recent call last)",
      "\u001b[1;32m<ipython-input-28-711806da67eb>\u001b[0m in \u001b[0;36m<module>\u001b[1;34m\u001b[0m\n\u001b[0;32m      1\u001b[0m \u001b[0mprint\u001b[0m\u001b[1;33m(\u001b[0m\u001b[1;34m\"saving file\"\u001b[0m\u001b[1;33m)\u001b[0m\u001b[1;33m\u001b[0m\u001b[1;33m\u001b[0m\u001b[0m\n\u001b[0;32m      2\u001b[0m \u001b[0mfilepath\u001b[0m \u001b[1;33m=\u001b[0m \u001b[0mPath\u001b[0m\u001b[1;33m(\u001b[0m\u001b[0msave_loc\u001b[0m\u001b[1;33m)\u001b[0m\u001b[1;33m\u001b[0m\u001b[1;33m\u001b[0m\u001b[0m\n\u001b[1;32m----> 3\u001b[1;33m \u001b[0mfilepath\u001b[0m\u001b[1;33m.\u001b[0m\u001b[0mparent\u001b[0m\u001b[1;33m.\u001b[0m\u001b[0mmkdir\u001b[0m\u001b[1;33m(\u001b[0m\u001b[0mparents\u001b[0m\u001b[1;33m=\u001b[0m\u001b[1;32mTrue\u001b[0m\u001b[1;33m,\u001b[0m \u001b[0mexist_ok\u001b[0m\u001b[1;33m=\u001b[0m\u001b[1;32mTrue\u001b[0m\u001b[1;33m)\u001b[0m\u001b[1;33m\u001b[0m\u001b[1;33m\u001b[0m\u001b[0m\n\u001b[0m\u001b[0;32m      4\u001b[0m \u001b[0mfinal_list\u001b[0m\u001b[1;33m.\u001b[0m\u001b[0mto_csv\u001b[0m\u001b[1;33m(\u001b[0m\u001b[0mfilepath\u001b[0m\u001b[1;33m)\u001b[0m\u001b[1;33m\u001b[0m\u001b[1;33m\u001b[0m\u001b[0m\n",
      "\u001b[1;32mC:\\Users\\Triple_One\\Anaconda3\\lib\\pathlib.py\u001b[0m in \u001b[0;36mmkdir\u001b[1;34m(self, mode, parents, exist_ok)\u001b[0m\n\u001b[0;32m   1253\u001b[0m             \u001b[1;32mif\u001b[0m \u001b[1;32mnot\u001b[0m \u001b[0mparents\u001b[0m \u001b[1;32mor\u001b[0m \u001b[0mself\u001b[0m\u001b[1;33m.\u001b[0m\u001b[0mparent\u001b[0m \u001b[1;33m==\u001b[0m \u001b[0mself\u001b[0m\u001b[1;33m:\u001b[0m\u001b[1;33m\u001b[0m\u001b[1;33m\u001b[0m\u001b[0m\n\u001b[0;32m   1254\u001b[0m                 \u001b[1;32mraise\u001b[0m\u001b[1;33m\u001b[0m\u001b[1;33m\u001b[0m\u001b[0m\n\u001b[1;32m-> 1255\u001b[1;33m             \u001b[0mself\u001b[0m\u001b[1;33m.\u001b[0m\u001b[0mparent\u001b[0m\u001b[1;33m.\u001b[0m\u001b[0mmkdir\u001b[0m\u001b[1;33m(\u001b[0m\u001b[0mparents\u001b[0m\u001b[1;33m=\u001b[0m\u001b[1;32mTrue\u001b[0m\u001b[1;33m,\u001b[0m \u001b[0mexist_ok\u001b[0m\u001b[1;33m=\u001b[0m\u001b[1;32mTrue\u001b[0m\u001b[1;33m)\u001b[0m\u001b[1;33m\u001b[0m\u001b[1;33m\u001b[0m\u001b[0m\n\u001b[0m\u001b[0;32m   1256\u001b[0m             \u001b[0mself\u001b[0m\u001b[1;33m.\u001b[0m\u001b[0mmkdir\u001b[0m\u001b[1;33m(\u001b[0m\u001b[0mmode\u001b[0m\u001b[1;33m,\u001b[0m \u001b[0mparents\u001b[0m\u001b[1;33m=\u001b[0m\u001b[1;32mFalse\u001b[0m\u001b[1;33m,\u001b[0m \u001b[0mexist_ok\u001b[0m\u001b[1;33m=\u001b[0m\u001b[0mexist_ok\u001b[0m\u001b[1;33m)\u001b[0m\u001b[1;33m\u001b[0m\u001b[1;33m\u001b[0m\u001b[0m\n\u001b[0;32m   1257\u001b[0m         \u001b[1;32mexcept\u001b[0m \u001b[0mOSError\u001b[0m\u001b[1;33m:\u001b[0m\u001b[1;33m\u001b[0m\u001b[1;33m\u001b[0m\u001b[0m\n",
      "\u001b[1;32mC:\\Users\\Triple_One\\Anaconda3\\lib\\pathlib.py\u001b[0m in \u001b[0;36mmkdir\u001b[1;34m(self, mode, parents, exist_ok)\u001b[0m\n\u001b[0;32m   1249\u001b[0m             \u001b[0mself\u001b[0m\u001b[1;33m.\u001b[0m\u001b[0m_raise_closed\u001b[0m\u001b[1;33m(\u001b[0m\u001b[1;33m)\u001b[0m\u001b[1;33m\u001b[0m\u001b[1;33m\u001b[0m\u001b[0m\n\u001b[0;32m   1250\u001b[0m         \u001b[1;32mtry\u001b[0m\u001b[1;33m:\u001b[0m\u001b[1;33m\u001b[0m\u001b[1;33m\u001b[0m\u001b[0m\n\u001b[1;32m-> 1251\u001b[1;33m             \u001b[0mself\u001b[0m\u001b[1;33m.\u001b[0m\u001b[0m_accessor\u001b[0m\u001b[1;33m.\u001b[0m\u001b[0mmkdir\u001b[0m\u001b[1;33m(\u001b[0m\u001b[0mself\u001b[0m\u001b[1;33m,\u001b[0m \u001b[0mmode\u001b[0m\u001b[1;33m)\u001b[0m\u001b[1;33m\u001b[0m\u001b[1;33m\u001b[0m\u001b[0m\n\u001b[0m\u001b[0;32m   1252\u001b[0m         \u001b[1;32mexcept\u001b[0m \u001b[0mFileNotFoundError\u001b[0m\u001b[1;33m:\u001b[0m\u001b[1;33m\u001b[0m\u001b[1;33m\u001b[0m\u001b[0m\n\u001b[0;32m   1253\u001b[0m             \u001b[1;32mif\u001b[0m \u001b[1;32mnot\u001b[0m \u001b[0mparents\u001b[0m \u001b[1;32mor\u001b[0m \u001b[0mself\u001b[0m\u001b[1;33m.\u001b[0m\u001b[0mparent\u001b[0m \u001b[1;33m==\u001b[0m \u001b[0mself\u001b[0m\u001b[1;33m:\u001b[0m\u001b[1;33m\u001b[0m\u001b[1;33m\u001b[0m\u001b[0m\n",
      "\u001b[1;31mPermissionError\u001b[0m: [WinError 5] Access is denied: 'C:\\\\Users\\\\rsimon'"
     ]
    }
   ],
   "source": [
    "print(\"saving file\")\n",
    "filepath = Path(save_loc)  \n",
    "filepath.parent.mkdir(parents=True, exist_ok=True)  \n",
    "final_list.to_csv(filepath)"
   ]
  },
  {
   "cell_type": "code",
   "execution_count": null,
   "metadata": {},
   "outputs": [],
   "source": []
  },
  {
   "cell_type": "code",
   "execution_count": null,
   "metadata": {},
   "outputs": [],
   "source": []
  },
  {
   "cell_type": "code",
   "execution_count": null,
   "metadata": {},
   "outputs": [],
   "source": []
  },
  {
   "cell_type": "code",
   "execution_count": null,
   "metadata": {},
   "outputs": [],
   "source": []
  }
 ],
 "metadata": {
  "kernelspec": {
   "display_name": "Python 3",
   "language": "python",
   "name": "python3"
  },
  "language_info": {
   "codemirror_mode": {
    "name": "ipython",
    "version": 3
   },
   "file_extension": ".py",
   "mimetype": "text/x-python",
   "name": "python",
   "nbconvert_exporter": "python",
   "pygments_lexer": "ipython3",
   "version": "3.7.3"
  }
 },
 "nbformat": 4,
 "nbformat_minor": 4
}
