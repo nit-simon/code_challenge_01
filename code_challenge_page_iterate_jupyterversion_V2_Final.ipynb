{
 "cells": [
  {
   "cell_type": "code",
   "execution_count": 1,
   "metadata": {},
   "outputs": [],
   "source": [
    "import pandas as pd\n",
    "import requests\n",
    "from bs4 import BeautifulSoup #as soup\n",
    "import time\n",
    "import json\n",
    "\n",
    "from pathlib import Path  \n",
    "import os"
   ]
  },
  {
   "cell_type": "markdown",
   "metadata": {},
   "source": [
    "versions of the core libraries used\n",
    "- pandas version: 1.0.1\n",
    "\n",
    "- BeautifulSoup version: 4.8.2\n",
    "\n",
    "- requests version: 2.22.0\n",
    "\n",
    "- python version: 3.7.3"
   ]
  },
  {
   "cell_type": "code",
   "execution_count": null,
   "metadata": {},
   "outputs": [],
   "source": []
  },
  {
   "cell_type": "code",
   "execution_count": null,
   "metadata": {},
   "outputs": [],
   "source": []
  },
  {
   "cell_type": "code",
   "execution_count": 2,
   "metadata": {},
   "outputs": [],
   "source": [
    "# tested only on windows, fetch the username folder, assist in saving location\n",
    "# first = len(\"c:\\\\users\\\\\")\n",
    "# print(os.path.abspath(os.getcwd()))\n",
    "# pwd = os.path.abspath(os.getcwd())\n",
    "# second = pwd[first:len(pwd)]\n",
    "# third = second.find(\"\\\\\")\n",
    "# pc_username_folder = second[0:third]\n",
    "# print(\"username: \"+ pc_username_folder)\n",
    "\n",
    "# save_loc =fr'C:\\Users\\{pc_username_folder}\\Desktop\\pharma_ida.csv'"
   ]
  },
  {
   "cell_type": "code",
   "execution_count": 3,
   "metadata": {},
   "outputs": [],
   "source": [
    "#manually type save location\n",
    "save_loc =fr'C:\\Users\\rsimon\\Desktop\\pharma_ida.csv'"
   ]
  },
  {
   "cell_type": "code",
   "execution_count": null,
   "metadata": {},
   "outputs": [],
   "source": []
  },
  {
   "cell_type": "code",
   "execution_count": null,
   "metadata": {},
   "outputs": [],
   "source": []
  },
  {
   "cell_type": "code",
   "execution_count": null,
   "metadata": {},
   "outputs": [],
   "source": []
  },
  {
   "cell_type": "code",
   "execution_count": 4,
   "metadata": {},
   "outputs": [],
   "source": [
    "#This URL is the page you actually want to pull down with requests.\n",
    "initial_page = 'https://idbop.mylicense.com/verification/Search.aspx'\n",
    "searchPage = initial_page"
   ]
  },
  {
   "cell_type": "code",
   "execution_count": null,
   "metadata": {},
   "outputs": [],
   "source": []
  },
  {
   "cell_type": "code",
   "execution_count": 5,
   "metadata": {},
   "outputs": [],
   "source": [
    "# format the fetch list into  columns.\n",
    "def list_format(list_name, step):\n",
    "    return [list_name[i::step] for i in range(step)]\n",
    "#print(list_format(data,4))"
   ]
  },
  {
   "cell_type": "code",
   "execution_count": null,
   "metadata": {},
   "outputs": [],
   "source": []
  },
  {
   "cell_type": "code",
   "execution_count": 6,
   "metadata": {},
   "outputs": [],
   "source": [
    "def fetch_next_page(page):\n",
    "    payload_next_page = {\n",
    "    \"CurrentPageIndex\":page,\n",
    "    \"__EVENTTARGET\":\"datagrid_results$_ctl44$_ctl1\",\n",
    "    \"__EVENTARGUMENT\":\"\",\n",
    "    \"__VIEWSTATEGENERATOR\":viewStateGenerator,\n",
    "    \"__VIEWSTATE\":viewState,\n",
    "    \"__EVENTVALIDATION\":eventValidation}\n",
    "    nextpage=\"https://idbop.mylicense.com/verification/SearchResults.aspx\"\n",
    "    result_np=req_sess.post(nextpage,headers=headers1,data=payload_next_page)\n",
    "    soup1=BeautifulSoup(result_np.content, 'html.parser')\n",
    "    td_as_base1 = soup1.find_all('td') \n",
    "    data2 = []\n",
    "    for cell in td_as_base1:\n",
    "            if cell.text==\"\":\n",
    "                #print(\"empty string skipped\")\n",
    "                continue\n",
    "            #if cell.text.startswith('\\n'):\n",
    "            if '\\\\' in  r\"%r\" % cell.text:\n",
    "                #print(\"slash skipped\")\n",
    "                continue\n",
    "            insertdata = cell.text.strip()\n",
    "            data2.append(insertdata)\n",
    "    return data2 ,soup1"
   ]
  },
  {
   "cell_type": "code",
   "execution_count": null,
   "metadata": {},
   "outputs": [],
   "source": []
  },
  {
   "cell_type": "code",
   "execution_count": 7,
   "metadata": {},
   "outputs": [],
   "source": [
    "def count_pages():\n",
    "    pagination=BeautifulSoup(result.content, 'html.parser')\n",
    "    paginationtags = pagination.find_all('a') # all trs\n",
    "    pages = [tag.text.strip() for tag in paginationtags if tag.text.isnumeric()]\n",
    "    return pages"
   ]
  },
  {
   "cell_type": "code",
   "execution_count": null,
   "metadata": {},
   "outputs": [],
   "source": []
  },
  {
   "cell_type": "code",
   "execution_count": 8,
   "metadata": {},
   "outputs": [],
   "source": [
    "def remove_these(thisList):\n",
    "    try:\n",
    "        thisList.remove(\"Search\")\n",
    "        thisList.remove(\"Search Results\")\n",
    "        print(\"Removed exess texts\")\n",
    "    except:\n",
    "        print(\"keywords removed/not present\")"
   ]
  },
  {
   "cell_type": "code",
   "execution_count": null,
   "metadata": {},
   "outputs": [],
   "source": []
  },
  {
   "cell_type": "code",
   "execution_count": null,
   "metadata": {},
   "outputs": [],
   "source": []
  },
  {
   "cell_type": "code",
   "execution_count": 9,
   "metadata": {},
   "outputs": [],
   "source": [
    "############# SEQUENCE 1 - the initial page needs to be loaded first to acquire the viewstate to be used in the search page, then the pagination"
   ]
  },
  {
   "cell_type": "code",
   "execution_count": 10,
   "metadata": {},
   "outputs": [
    {
     "name": "stdout",
     "output_type": "stream",
     "text": [
      "Loading the initial page\n"
     ]
    }
   ],
   "source": [
    "print(\"Loading the initial page\")\n",
    "req_sess=requests.Session()\n",
    "r=req_sess.get(initial_page)\n",
    "time.sleep(5)\n",
    "soup=BeautifulSoup(r.content, 'html.parser')"
   ]
  },
  {
   "cell_type": "code",
   "execution_count": 11,
   "metadata": {},
   "outputs": [],
   "source": [
    "# eventTarget=soup.find(id=\"__EVENTTARGET\")['value']\n",
    "#eventArguement=soup.find(id=\"__EVENTARGUMENT\")['value']\n",
    "viewState=soup.find(id=\"__VIEWSTATE\")['value']\n",
    "viewStateGenerator=soup.find(id=\"__VIEWSTATEGENERATOR\")['value']\n",
    "eventValidation=soup.find(id=\"__EVENTVALIDATION\")['value']"
   ]
  },
  {
   "cell_type": "code",
   "execution_count": null,
   "metadata": {},
   "outputs": [],
   "source": []
  },
  {
   "cell_type": "code",
   "execution_count": null,
   "metadata": {},
   "outputs": [],
   "source": []
  },
  {
   "cell_type": "code",
   "execution_count": 12,
   "metadata": {},
   "outputs": [],
   "source": [
    "# # \n",
    "# license_type_name = \"Pharmacist\"\n",
    "# lastName =\"L*\"\n",
    "\n"
   ]
  },
  {
   "cell_type": "code",
   "execution_count": 13,
   "metadata": {},
   "outputs": [
    {
     "name": "stdin",
     "output_type": "stream",
     "text": [
      "Enter Last Name L*\n",
      "Enter First Name \n",
      "Enter License Type Pharmacist\n",
      "Enter License Type Pharmacist\n",
      "Enter Last Name \n",
      "Enter City \n",
      "Enter license no \n",
      "Enter State \n",
      "Enter license status \n",
      "Enter Country \n",
      "Enter Zip \n"
     ]
    }
   ],
   "source": [
    "### search fields , Please uncomment after testing\n",
    "lastName = input(\"Enter Last Name\")\n",
    "first_name  = input('Enter First Name')\n",
    "license_type_name =input(\"Enter License Type\")\n",
    "last_name  = input('Enter Last Name')\n",
    "addr_city  = input('Enter City')\n",
    "license_no  = input('Enter license no')\n",
    "addr_state  = input('Enter State')\n",
    "license_status_name  = input('Enter license status')\n",
    "addr_county  = input('Enter Country')\n",
    "addr_zipcode  = input('Enter Zip')"
   ]
  },
  {
   "cell_type": "code",
   "execution_count": null,
   "metadata": {},
   "outputs": [],
   "source": []
  },
  {
   "cell_type": "code",
   "execution_count": 14,
   "metadata": {},
   "outputs": [],
   "source": [
    "payload = {\n",
    "    \"__EVENTTARGET\":\"\",\n",
    "    \"__EVENTARGUMENT\":\"\",\n",
    "    \"__LASTFOCUS\":\"\",\n",
    "    \"__VIEWSTATEGENERATOR\":viewStateGenerator,\n",
    "    \"__VIEWSTATE\":viewState,\n",
    "    \"__EVENTVALIDATION\":eventValidation,\n",
    "    \"t_web_lookup__first_name\":\"\",\n",
    "    \"t_web_lookup__license_type_name\":license_type_name,\n",
    "    \"t_web_lookup__last_name\":lastName,\n",
    "    \"t_web_lookup__addr_city\":\"\",\n",
    "    \"t_web_lookup__license_no\":\"\",\n",
    "    \"t_web_lookup__addr_state\":\"\",\n",
    "    \"t_web_lookup__license_status_name\":\"\",\n",
    "    \"t_web_lookup__addr_county\":\"\",\n",
    "    \"t_web_lookup__addr_zipcode\":\"\",\n",
    "    \"sch_button\":\"Search\"\n",
    "}"
   ]
  },
  {
   "cell_type": "code",
   "execution_count": null,
   "metadata": {},
   "outputs": [],
   "source": []
  },
  {
   "cell_type": "code",
   "execution_count": 15,
   "metadata": {},
   "outputs": [],
   "source": [
    "headers1 = {\n",
    "    'Accept':'text/html,application/xhtml+xml,application/xml;q=0.9,image/webp,image/apng,*/*;q=0.8,application/signed-exchange;v=b3;q=0.9',\n",
    "    'Accept-Encoding':'gzip, deflate, br',\n",
    "    'Connection':'keep-alive',\n",
    "    'Cache-Control':'max-age=0',\n",
    "    'Content-Length': '2853',\n",
    "    'Content-Type':'application/x-www-form-urlencoded; charset=UTF-8',\n",
    "    'Host':'idbop.mylicense.com',\n",
    "    'Origin':'https://idbop.mylicense.com',\n",
    "    'Referer': 'https://idbop.mylicense.com/verification/Search.aspx',\n",
    "    'user-agent': 'Mozilla/5.0 (Windows NT 10.0; Win64; x64) AppleWebKit/537.36 (KHTML, like Gecko) Chrome/108.0.0.0 Safari/537.36 Edg/108.0.1462.54',\n",
    "    'X-Requested-With':'XMLHttpRequest'\n",
    "}"
   ]
  },
  {
   "cell_type": "code",
   "execution_count": 16,
   "metadata": {},
   "outputs": [],
   "source": [
    "headers2 = {\n",
    "    'Accept':'text/html,application/xhtml+xml,application/xml;q=0.9,image/webp,image/apng,*/*;q=0.8,application/signed-exchange;v=b3;q=0.9',\n",
    "    'Accept-Encoding':'gzip, deflate, br',\n",
    "    'Connection':'keep-alive',\n",
    "    'Cache-Control':'max-age=0',\n",
    "    'Content-Length': '2853',\n",
    "    'Content-Type':'application/x-www-form-urlencoded; charset=UTF-8',\n",
    "    'Host':'idbop.mylicense.com',\n",
    "    'Origin':'https://idbop.mylicense.com',\n",
    "    'Referer': 'https://idbop.mylicense.com/verification/SearchResults.aspx',\n",
    "    'user-agent': 'Mozilla/5.0 (Windows NT 10.0; Win64; x64) AppleWebKit/537.36 (KHTML, like Gecko) Chrome/108.0.0.0 Safari/537.36 Edg/108.0.1462.54',\n",
    "    'X-Requested-With':'XMLHttpRequest'\n",
    "}"
   ]
  },
  {
   "cell_type": "code",
   "execution_count": 17,
   "metadata": {},
   "outputs": [
    {
     "name": "stdout",
     "output_type": "stream",
     "text": [
      "submitting inital requet to page\n"
     ]
    }
   ],
   "source": [
    "print(\"submitting inital requet to page\")\n",
    "result=req_sess.post(searchPage,headers=headers1,data=payload)"
   ]
  },
  {
   "cell_type": "code",
   "execution_count": 18,
   "metadata": {},
   "outputs": [],
   "source": [
    "# searchPage"
   ]
  },
  {
   "cell_type": "code",
   "execution_count": 19,
   "metadata": {},
   "outputs": [],
   "source": [
    "# for fetching the page count\n",
    "soup=BeautifulSoup(result.text, 'html.parser')"
   ]
  },
  {
   "cell_type": "code",
   "execution_count": 20,
   "metadata": {},
   "outputs": [],
   "source": [
    "########################################################################"
   ]
  },
  {
   "cell_type": "code",
   "execution_count": null,
   "metadata": {},
   "outputs": [],
   "source": []
  },
  {
   "cell_type": "code",
   "execution_count": null,
   "metadata": {},
   "outputs": [],
   "source": []
  },
  {
   "cell_type": "code",
   "execution_count": null,
   "metadata": {},
   "outputs": [],
   "source": []
  },
  {
   "cell_type": "code",
   "execution_count": null,
   "metadata": {},
   "outputs": [],
   "source": []
  },
  {
   "cell_type": "code",
   "execution_count": 21,
   "metadata": {},
   "outputs": [],
   "source": [
    "# #soup=BeautifulSoup(result.text, 'html.parser')\n",
    "# tds = soup.find_all('td')\n",
    "# atagList=[]\n",
    "# for atags in tds:\n",
    "#     atag = atags.find('a')\n",
    "#     if atag==[]:\n",
    "#         continue\n",
    "#     if atag==None:\n",
    "#         continue\n",
    "#     atagList.append(atag)    \n",
    "\n",
    "# #   #list of names only\n",
    "# atagList_reduce=atagList[6:86:1]\n",
    "\n",
    "\n",
    "\n",
    "\n",
    "# #     #remove the duplicates\n",
    "# reduced_atag = atagList_reduce[::2]\n",
    "# print(\"hrefs fethed: \"+ str(len(reduced_atag)))\n",
    "# #     href = reduced_atag[0].find_all('id')\n",
    "# href_tags = []\n",
    "# for hr in reduced_atag:\n",
    "#     hreftag =hr.get('href')\n",
    "#     href_tags.append(hreftag)\n",
    "#     #print(href_tags)"
   ]
  },
  {
   "cell_type": "code",
   "execution_count": null,
   "metadata": {},
   "outputs": [],
   "source": []
  },
  {
   "cell_type": "code",
   "execution_count": null,
   "metadata": {},
   "outputs": [],
   "source": []
  },
  {
   "cell_type": "code",
   "execution_count": 22,
   "metadata": {},
   "outputs": [],
   "source": [
    "def get_all_links(soup):\n",
    "    #soup=BeautifulSoup(result.text, 'html.parser')\n",
    "    tds = soup.find_all('td')\n",
    "    atagList=[]\n",
    "    for atags in tds:\n",
    "        atag = atags.find('a')\n",
    "        if atag==[]:\n",
    "            continue\n",
    "        if atag==None:\n",
    "            continue\n",
    "        atagList.append(atag)    \n",
    "\n",
    "    #   #list of names only\n",
    "    atagList_reduce=atagList[6:86:1]\n",
    "\n",
    "\n",
    "    \n",
    "\n",
    "    #     #remove the duplicates\n",
    "    reduced_atag = atagList_reduce[::2]\n",
    "    print(\"hrefs fethed: \"+ str(len(reduced_atag)))\n",
    "#     href = reduced_atag[0].find_all('id')\n",
    "    href_tags = []\n",
    "    for hr in reduced_atag:\n",
    "        hreftag =hr.get('href')\n",
    "        href_tags.append(hreftag)\n",
    "        #print(href_tags)\n",
    "    return href_tags"
   ]
  },
  {
   "cell_type": "code",
   "execution_count": null,
   "metadata": {},
   "outputs": [],
   "source": []
  },
  {
   "cell_type": "code",
   "execution_count": null,
   "metadata": {},
   "outputs": [],
   "source": []
  },
  {
   "cell_type": "code",
   "execution_count": null,
   "metadata": {},
   "outputs": [],
   "source": []
  },
  {
   "cell_type": "code",
   "execution_count": null,
   "metadata": {},
   "outputs": [],
   "source": []
  },
  {
   "cell_type": "code",
   "execution_count": 23,
   "metadata": {},
   "outputs": [],
   "source": [
    "def get_person_data(href_tag):\n",
    "    resultOnly = href_tag[20::] \n",
    "    person_req_link = \"https://idbop.mylicense.com/verification/\"\n",
    "    person_req_get_request_link = person_req_link+href_tag\n",
    "    person=req_sess.get(person_req_get_request_link,headers=headers2,data=resultOnly)\n",
    "    time.sleep(1)\n",
    "\n",
    "    #working code v1\n",
    "    person_page=BeautifulSoup(person.content, 'html.parser')\n",
    "    table  =person_page.find_all('table')\n",
    "\n",
    "\n",
    "    person_data = []\n",
    "    for td in table[4]:\n",
    "        try:\n",
    "            row = td.find('td').text.strip()\n",
    "            #print(row)\n",
    "            person_data.append(row)\n",
    "        except:\n",
    "            continue\n",
    "\n",
    "    person_data1 = []\n",
    "    tds2 = table[4].find_all('td')\n",
    "    for td in tds2:\n",
    "        for tr in td:\n",
    "            try:\n",
    "                trdata= tr.text.strip()\n",
    "                person_data1.append(trdata)\n",
    "            except:\n",
    "                continue\n",
    "\n",
    "    dataSet2 = []\n",
    "    for td in table[8]:\n",
    "        for tr in td:\n",
    "            try:\n",
    "                trdata= tr.text.strip()\n",
    "                dataSet2.append(trdata)\n",
    "            except:\n",
    "                continue\n",
    "\n",
    "    dataSet1 = person_data1[9:15:]\n",
    "\n",
    "    person_data1 = []\n",
    "    tds2 = table[4].find_all('td')\n",
    "    for td in tds2:\n",
    "        for tr in td:\n",
    "            try:\n",
    "                trdata= tr.text.strip()\n",
    "                person_data1.append(trdata)\n",
    "            except:\n",
    "                continue\n",
    "\n",
    "    final_dataset = dataSet1+dataSet2\n",
    "\n",
    "    person_info = list_format(final_dataset, 2)\n",
    "\n",
    "    df1 = pd.DataFrame(person_info)\n",
    "    header_row = df1.iloc[0]\n",
    "    df2 = pd.DataFrame(df1.values[1:], columns=header_row)\n",
    "\n",
    "    return df2"
   ]
  },
  {
   "cell_type": "code",
   "execution_count": 24,
   "metadata": {},
   "outputs": [],
   "source": [
    "#query model\n",
    "#https://idbop.mylicense.com/verification/Details.aspx?result=7fabb069-2284-4244-ac9f-115002f9da12"
   ]
  },
  {
   "cell_type": "code",
   "execution_count": null,
   "metadata": {},
   "outputs": [],
   "source": []
  },
  {
   "cell_type": "code",
   "execution_count": null,
   "metadata": {},
   "outputs": [],
   "source": []
  },
  {
   "cell_type": "code",
   "execution_count": 25,
   "metadata": {},
   "outputs": [
    {
     "ename": "SyntaxError",
     "evalue": "invalid syntax (<ipython-input-25-c82864fde65d>, line 1)",
     "output_type": "error",
     "traceback": [
      "\u001b[1;36m  File \u001b[1;32m\"<ipython-input-25-c82864fde65d>\"\u001b[1;36m, line \u001b[1;32m1\u001b[0m\n\u001b[1;33m    For page 1\u001b[0m\n\u001b[1;37m           ^\u001b[0m\n\u001b[1;31mSyntaxError\u001b[0m\u001b[1;31m:\u001b[0m invalid syntax\n"
     ]
    }
   ],
   "source": [
    "For page 1\n",
    "persons_on_this_page = get_all_links(soup)"
   ]
  },
  {
   "cell_type": "code",
   "execution_count": null,
   "metadata": {},
   "outputs": [],
   "source": [
    "#fetch page 1\n",
    "all_person =[]\n",
    "for person in persons_on_this_page:\n",
    "    print(person)\n",
    "    each_person = get_person_data(person)\n",
    "    time.sleep(3)\n",
    "    all_person.append(each_person)"
   ]
  },
  {
   "cell_type": "code",
   "execution_count": null,
   "metadata": {},
   "outputs": [],
   "source": []
  },
  {
   "cell_type": "code",
   "execution_count": null,
   "metadata": {},
   "outputs": [],
   "source": [
    "############################################################################################################################"
   ]
  },
  {
   "cell_type": "code",
   "execution_count": null,
   "metadata": {},
   "outputs": [],
   "source": [
    "pageCount =count_pages()"
   ]
  },
  {
   "cell_type": "code",
   "execution_count": null,
   "metadata": {},
   "outputs": [],
   "source": [
    "pageCount"
   ]
  },
  {
   "cell_type": "code",
   "execution_count": null,
   "metadata": {},
   "outputs": [],
   "source": [
    "#iterate fetching the res the  pages\n",
    "all_person =[]\n",
    "for page in range(len(pageCount)+1):\n",
    "    print(\"fetching page \"+str(page))\n",
    "    fetchedData,soup = fetch_next_page(page)\n",
    "    persons_on_this_page = get_all_links(soup)\n",
    "    for person in persons_on_this_page:\n",
    "        print(person)\n",
    "        each_person = get_person_data(person)\n",
    "        time.sleep(3)\n",
    "        all_person.append(each_person)"
   ]
  },
  {
   "cell_type": "code",
   "execution_count": null,
   "metadata": {},
   "outputs": [],
   "source": [
    "final_data = pd.concat(all_person)"
   ]
  },
  {
   "cell_type": "code",
   "execution_count": null,
   "metadata": {},
   "outputs": [],
   "source": []
  },
  {
   "cell_type": "code",
   "execution_count": null,
   "metadata": {},
   "outputs": [],
   "source": [
    "print(\"saving file\")\n",
    "filepath = Path(save_loc)  \n",
    "filepath.parent.mkdir(parents=True, exist_ok=True)  \n",
    "final_list.to_csv(filepath)"
   ]
  },
  {
   "cell_type": "code",
   "execution_count": null,
   "metadata": {},
   "outputs": [],
   "source": [
    "print(\"scrape completed\")"
   ]
  }
 ],
 "metadata": {
  "kernelspec": {
   "display_name": "Python 3",
   "language": "python",
   "name": "python3"
  },
  "language_info": {
   "codemirror_mode": {
    "name": "ipython",
    "version": 3
   },
   "file_extension": ".py",
   "mimetype": "text/x-python",
   "name": "python",
   "nbconvert_exporter": "python",
   "pygments_lexer": "ipython3",
   "version": "3.7.3"
  }
 },
 "nbformat": 4,
 "nbformat_minor": 4
}
